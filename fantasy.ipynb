{
 "cells": [
  {
   "cell_type": "code",
   "execution_count": 10,
   "metadata": {},
   "outputs": [],
   "source": [
    "import pandas as pd"
   ]
  },
  {
   "cell_type": "code",
   "execution_count": 11,
   "metadata": {},
   "outputs": [],
   "source": [
    "year = 2021\n",
    "str = 'https://www.pro-football-reference.com/years/{}/fantasy.htm'"
   ]
  },
  {
   "cell_type": "code",
   "execution_count": 12,
   "metadata": {},
   "outputs": [
    {
     "data": {
      "text/plain": [
       "'https://www.pro-football-reference.com/years/2021/fantasy.htm'"
      ]
     },
     "execution_count": 12,
     "metadata": {},
     "output_type": "execute_result"
    }
   ],
   "source": [
    "url4 = str.format(year)\n",
    "url4"
   ]
  },
  {
   "cell_type": "code",
   "execution_count": 13,
   "metadata": {},
   "outputs": [],
   "source": [
    "df = pd.read_html(url4, header = 1)"
   ]
  },
  {
   "cell_type": "code",
   "execution_count": 14,
   "metadata": {},
   "outputs": [
    {
     "data": {
      "text/plain": [
       "[      Rk               Player   Tm FantPos Age  G GS Cmp Att Yds  ... TD.3  \\\n",
       " 0      1          Tyreek Hill  KAN      WR  27  1  1   0   0   0  ...    1   \n",
       " 1      2         Amari Cooper  DAL      WR  27  1  1   0   0   0  ...    2   \n",
       " 2      3       Rob Gronkowski  TAM      TE  32  1  1   0   0   0  ...    2   \n",
       " 3      4         Travis Kelce  KAN      TE  32  1  1   0   0   0  ...    2   \n",
       " 4      5            Joe Mixon  CIN      RB  25  1  1   0   0   0  ...    1   \n",
       " ..   ...                  ...  ...     ...  .. .. ..  ..  ..  ..  ...  ...   \n",
       " 409  397       DeAndre Carter  WAS     NaN  28  1  0   0   0   0  ...    0   \n",
       " 410  398    Ricky Seals-Jones  WAS     NaN  26  1  0   0   0   0  ...    0   \n",
       " 411  399       Tyrone Swoopes  WAS     NaN  27  1  0   0   0   0  ...    0   \n",
       " 412  400  Rhamondre Stevenson  NWE      RB  23  1  0   0   0   0  ...    0   \n",
       " 413  401      Ronald Jones II  TAM      RB  24  1  0   0   0   0  ...    0   \n",
       " \n",
       "      2PM  2PP FantPt   PPR  DKPt  FDPt  VBD PosRank OvRank  \n",
       " 0    NaN  NaN     26  37.1  40.1  31.6   15       1      1  \n",
       " 1    NaN  NaN     26  38.9  41.9  32.4   15       2      2  \n",
       " 2    NaN  NaN     21  29.0  29.0  25.0   14       1      3  \n",
       " 3    NaN  NaN     20  25.6  25.6  22.6   13       2      4  \n",
       " 4    NaN  NaN     21  25.0  28.0  23.0   12       1      5  \n",
       " ..   ...  ...    ...   ...   ...   ...  ...     ...    ...  \n",
       " 409  NaN  NaN    NaN   NaN   NaN   NaN  NaN     155    NaN  \n",
       " 410  NaN  NaN    NaN   NaN   NaN   NaN  NaN      57    NaN  \n",
       " 411  NaN  NaN    NaN   NaN   NaN   NaN  NaN      66    NaN  \n",
       " 412  NaN  NaN     -1   0.1   1.1  -0.4  NaN     103    NaN  \n",
       " 413  NaN  NaN     -1  -0.6   0.4  -0.6  NaN     102    NaN  \n",
       " \n",
       " [414 rows x 33 columns]]"
      ]
     },
     "execution_count": 14,
     "metadata": {},
     "output_type": "execute_result"
    }
   ],
   "source": [
    "df"
   ]
  },
  {
   "cell_type": "code",
   "execution_count": 15,
   "metadata": {},
   "outputs": [],
   "source": [
    "fantasy_df = df[0]"
   ]
  },
  {
   "cell_type": "code",
   "execution_count": 16,
   "metadata": {},
   "outputs": [],
   "source": [
    "df = fantasy_df.drop(fantasy_df[fantasy_df.Age == 'Age'].index) #delete the rows with 'Age' in column 'Age'"
   ]
  },
  {
   "cell_type": "code",
   "execution_count": 17,
   "metadata": {},
   "outputs": [],
   "source": [
    "fantasy_df = df[['Player', 'Tm', 'FantPos', 'Age', 'FantPt', 'PPR','DKPt','PosRank']]"
   ]
  },
  {
   "cell_type": "code",
   "execution_count": 18,
   "metadata": {},
   "outputs": [
    {
     "data": {
      "text/html": [
       "<div>\n",
       "<style scoped>\n",
       "    .dataframe tbody tr th:only-of-type {\n",
       "        vertical-align: middle;\n",
       "    }\n",
       "\n",
       "    .dataframe tbody tr th {\n",
       "        vertical-align: top;\n",
       "    }\n",
       "\n",
       "    .dataframe thead th {\n",
       "        text-align: right;\n",
       "    }\n",
       "</style>\n",
       "<table border=\"1\" class=\"dataframe\">\n",
       "  <thead>\n",
       "    <tr style=\"text-align: right;\">\n",
       "      <th></th>\n",
       "      <th>Player</th>\n",
       "      <th>Tm</th>\n",
       "      <th>FantPos</th>\n",
       "      <th>Age</th>\n",
       "      <th>FantPt</th>\n",
       "      <th>PPR</th>\n",
       "      <th>DKPt</th>\n",
       "      <th>PosRank</th>\n",
       "    </tr>\n",
       "  </thead>\n",
       "  <tbody>\n",
       "    <tr>\n",
       "      <th>0</th>\n",
       "      <td>Tyreek Hill</td>\n",
       "      <td>KAN</td>\n",
       "      <td>WR</td>\n",
       "      <td>27</td>\n",
       "      <td>26</td>\n",
       "      <td>37.1</td>\n",
       "      <td>40.1</td>\n",
       "      <td>1</td>\n",
       "    </tr>\n",
       "    <tr>\n",
       "      <th>1</th>\n",
       "      <td>Amari Cooper</td>\n",
       "      <td>DAL</td>\n",
       "      <td>WR</td>\n",
       "      <td>27</td>\n",
       "      <td>26</td>\n",
       "      <td>38.9</td>\n",
       "      <td>41.9</td>\n",
       "      <td>2</td>\n",
       "    </tr>\n",
       "    <tr>\n",
       "      <th>2</th>\n",
       "      <td>Rob Gronkowski</td>\n",
       "      <td>TAM</td>\n",
       "      <td>TE</td>\n",
       "      <td>32</td>\n",
       "      <td>21</td>\n",
       "      <td>29.0</td>\n",
       "      <td>29.0</td>\n",
       "      <td>1</td>\n",
       "    </tr>\n",
       "    <tr>\n",
       "      <th>3</th>\n",
       "      <td>Travis Kelce</td>\n",
       "      <td>KAN</td>\n",
       "      <td>TE</td>\n",
       "      <td>32</td>\n",
       "      <td>20</td>\n",
       "      <td>25.6</td>\n",
       "      <td>25.6</td>\n",
       "      <td>2</td>\n",
       "    </tr>\n",
       "    <tr>\n",
       "      <th>4</th>\n",
       "      <td>Joe Mixon</td>\n",
       "      <td>CIN</td>\n",
       "      <td>RB</td>\n",
       "      <td>25</td>\n",
       "      <td>21</td>\n",
       "      <td>25.0</td>\n",
       "      <td>28.0</td>\n",
       "      <td>1</td>\n",
       "    </tr>\n",
       "    <tr>\n",
       "      <th>...</th>\n",
       "      <td>...</td>\n",
       "      <td>...</td>\n",
       "      <td>...</td>\n",
       "      <td>...</td>\n",
       "      <td>...</td>\n",
       "      <td>...</td>\n",
       "      <td>...</td>\n",
       "      <td>...</td>\n",
       "    </tr>\n",
       "    <tr>\n",
       "      <th>409</th>\n",
       "      <td>DeAndre Carter</td>\n",
       "      <td>WAS</td>\n",
       "      <td>NaN</td>\n",
       "      <td>28</td>\n",
       "      <td>NaN</td>\n",
       "      <td>NaN</td>\n",
       "      <td>NaN</td>\n",
       "      <td>155</td>\n",
       "    </tr>\n",
       "    <tr>\n",
       "      <th>410</th>\n",
       "      <td>Ricky Seals-Jones</td>\n",
       "      <td>WAS</td>\n",
       "      <td>NaN</td>\n",
       "      <td>26</td>\n",
       "      <td>NaN</td>\n",
       "      <td>NaN</td>\n",
       "      <td>NaN</td>\n",
       "      <td>57</td>\n",
       "    </tr>\n",
       "    <tr>\n",
       "      <th>411</th>\n",
       "      <td>Tyrone Swoopes</td>\n",
       "      <td>WAS</td>\n",
       "      <td>NaN</td>\n",
       "      <td>27</td>\n",
       "      <td>NaN</td>\n",
       "      <td>NaN</td>\n",
       "      <td>NaN</td>\n",
       "      <td>66</td>\n",
       "    </tr>\n",
       "    <tr>\n",
       "      <th>412</th>\n",
       "      <td>Rhamondre Stevenson</td>\n",
       "      <td>NWE</td>\n",
       "      <td>RB</td>\n",
       "      <td>23</td>\n",
       "      <td>-1</td>\n",
       "      <td>0.1</td>\n",
       "      <td>1.1</td>\n",
       "      <td>103</td>\n",
       "    </tr>\n",
       "    <tr>\n",
       "      <th>413</th>\n",
       "      <td>Ronald Jones II</td>\n",
       "      <td>TAM</td>\n",
       "      <td>RB</td>\n",
       "      <td>24</td>\n",
       "      <td>-1</td>\n",
       "      <td>-0.6</td>\n",
       "      <td>0.4</td>\n",
       "      <td>102</td>\n",
       "    </tr>\n",
       "  </tbody>\n",
       "</table>\n",
       "<p>401 rows × 8 columns</p>\n",
       "</div>"
      ],
      "text/plain": [
       "                  Player   Tm FantPos Age FantPt   PPR  DKPt PosRank\n",
       "0            Tyreek Hill  KAN      WR  27     26  37.1  40.1       1\n",
       "1           Amari Cooper  DAL      WR  27     26  38.9  41.9       2\n",
       "2         Rob Gronkowski  TAM      TE  32     21  29.0  29.0       1\n",
       "3           Travis Kelce  KAN      TE  32     20  25.6  25.6       2\n",
       "4              Joe Mixon  CIN      RB  25     21  25.0  28.0       1\n",
       "..                   ...  ...     ...  ..    ...   ...   ...     ...\n",
       "409       DeAndre Carter  WAS     NaN  28    NaN   NaN   NaN     155\n",
       "410    Ricky Seals-Jones  WAS     NaN  26    NaN   NaN   NaN      57\n",
       "411       Tyrone Swoopes  WAS     NaN  27    NaN   NaN   NaN      66\n",
       "412  Rhamondre Stevenson  NWE      RB  23     -1   0.1   1.1     103\n",
       "413      Ronald Jones II  TAM      RB  24     -1  -0.6   0.4     102\n",
       "\n",
       "[401 rows x 8 columns]"
      ]
     },
     "execution_count": 18,
     "metadata": {},
     "output_type": "execute_result"
    }
   ],
   "source": [
    "fantasy_df"
   ]
  },
  {
   "cell_type": "code",
   "execution_count": 19,
   "metadata": {},
   "outputs": [],
   "source": [
    "fantasy_df.to_csv(r'C:\\Users\\Steve.Lin\\Desktop\\test\\Resources\\fan_data.csv', index=False)"
   ]
  },
  {
   "cell_type": "code",
   "execution_count": null,
   "metadata": {},
   "outputs": [],
   "source": []
  }
 ],
 "metadata": {
  "kernelspec": {
   "display_name": "Python 3 (ipykernel)",
   "language": "python",
   "name": "python3"
  },
  "language_info": {
   "codemirror_mode": {
    "name": "ipython",
    "version": 3
   },
   "file_extension": ".py",
   "mimetype": "text/x-python",
   "name": "python",
   "nbconvert_exporter": "python",
   "pygments_lexer": "ipython3",
   "version": "3.8.5"
  }
 },
 "nbformat": 4,
 "nbformat_minor": 4
}
