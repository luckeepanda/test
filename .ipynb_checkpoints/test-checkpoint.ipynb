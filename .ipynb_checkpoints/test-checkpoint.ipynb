{
 "cells": [
  {
   "cell_type": "code",
   "execution_count": 27,
   "metadata": {},
   "outputs": [],
   "source": [
    "import pandas as pd\n",
    "import numpy as np\n",
    "from matplotlib import pyplot as plt\n",
    "import sklearn\n",
    "from sklearn.model_selection import train_test_split \n",
    "from sklearn.linear_model import LinearRegression\n",
    "import warnings\n",
    "from sklearn import linear_model \n",
    "from sklearn.tree import DecisionTreeClassifier\n",
    "from sklearn.model_selection import train_test_split\n",
    "from sklearn.metrics import accuracy_score, mean_squared_error, r2_score\n",
    "from sklearn.utils import shuffle\n",
    "from sklearn import linear_model, preprocessing\n",
    "from sklearn.preprocessing import LabelEncoder,MinMaxScaler,StandardScaler, OneHotEncoder, MaxAbsScaler\n",
    "warnings.filterwarnings('ignore') #suppresing errors as much as possible for pandas"
   ]
  },
  {
   "cell_type": "code",
   "execution_count": 32,
   "metadata": {},
   "outputs": [],
   "source": [
    "qb = 'Resources/qb_data.csv'\n",
    "rb = 'Resources/rb_data.csv'\n",
    "wr = 'Resources/wr_data.csv'\n",
    "fan = 'Resources/fan_data.csv'"
   ]
  },
  {
   "cell_type": "code",
   "execution_count": 33,
   "metadata": {},
   "outputs": [],
   "source": [
    "qbdf = pd.read_csv(qb)\n",
    "rbdf = pd.read_csv(rb)\n",
    "wrdf = pd.read_csv(wr)\n",
    "fandf = pd.read_csv(fan)"
   ]
  },
  {
   "cell_type": "code",
   "execution_count": 17,
   "metadata": {},
   "outputs": [],
   "source": [
    "# x = rb_df.drop([\"Yds\"], axis=1)\n",
    "# y = fantasy_df.Yds"
   ]
  },
  {
   "cell_type": "code",
   "execution_count": 18,
   "metadata": {},
   "outputs": [],
   "source": [
    "# x_train, x_test, y_train, y_test = sklearn.model_selection.train_test_split(x, y, test_size = 0.2, random_state=2)"
   ]
  },
  {
   "cell_type": "code",
   "execution_count": 19,
   "metadata": {},
   "outputs": [],
   "source": [
    "# scaler = MinMaxScaler()\n",
    "# x_scaler = scaler.fit(x_train)\n",
    "\n",
    "# y_train = y_train.values.reshape(-1,1)\n",
    "# y_scaler = scaler.fit(y_train)\n",
    "\n",
    "# y_test = y_test.values.reshape(-1,1)\n",
    "\n",
    "# x_train_scaled = x_scaler.transform(x_train)\n",
    "# x_test_scaled = x_scaler.transform(x_test)\n",
    "# y_train_scaled = y_scaler.transform(y_train)\n",
    "# y_test_scaled = y_scaler.transform(y_test)\n",
    "# x_train_scaled"
   ]
  },
  {
   "cell_type": "code",
   "execution_count": 20,
   "metadata": {},
   "outputs": [],
   "source": [
    "# x_train.shape, y_train.shape"
   ]
  },
  {
   "cell_type": "code",
   "execution_count": 21,
   "metadata": {},
   "outputs": [],
   "source": [
    "# x_test.shape, y_test.shape"
   ]
  },
  {
   "cell_type": "code",
   "execution_count": 22,
   "metadata": {},
   "outputs": [],
   "source": [
    "# model = linear_model.LinearRegression()"
   ]
  },
  {
   "cell_type": "code",
   "execution_count": 23,
   "metadata": {},
   "outputs": [],
   "source": [
    "# model.fit(x_train_scaled, y_train_scaled)"
   ]
  },
  {
   "cell_type": "code",
   "execution_count": 24,
   "metadata": {},
   "outputs": [],
   "source": [
    "# y_pred = model.predict(x_test_scaled)\n",
    "# print(model.score(x_test_scaled, y_test_scaled)) #evaluate the model"
   ]
  },
  {
   "cell_type": "code",
   "execution_count": 25,
   "metadata": {},
   "outputs": [],
   "source": [
    "# predictions = model.predict(x_test_scaled)\n",
    "# model.fit(x_train_scaled, y_train_scaled)\n",
    "# plt.scatter(model.predict(x_train_scaled), model.predict(x_train_scaled) - y_train_scaled, c=\"blue\", label=\"Training Data\")\n",
    "# plt.scatter(model.predict(x_test_scaled), model.predict(x_test_scaled) - y_test_scaled, c=\"orange\", label=\"Testing Data\")\n",
    "# plt.legend()\n",
    "# plt.hlines(y=0, xmin=y_test_scaled.min(), xmax=y_test_scaled.max())\n",
    "# plt.title(\"Residual Plot\")\n",
    "# plt.show()"
   ]
  },
  {
   "cell_type": "code",
   "execution_count": 26,
   "metadata": {},
   "outputs": [],
   "source": [
    "# print(f\"First 10 Predictions:   {predictions[:10]}\")\n",
    "# print(f\"First 10 Actual stats: {y_test_scaled[:10]}\")"
   ]
  },
  {
   "cell_type": "code",
   "execution_count": null,
   "metadata": {},
   "outputs": [],
   "source": [
    "# actual = y_scaler.inverse_transform(y_test_scaled)\n",
    "# final_prediction = y_scaler.inverse_transform(predictions)\n",
    "# ID = x_scaler.inverse_transform(x_test_scaled)"
   ]
  },
  {
   "cell_type": "code",
   "execution_count": null,
   "metadata": {},
   "outputs": [],
   "source": [
    "# df2 = pd.read_csv('RB_test.csv')\n",
    "# df2"
   ]
  },
  {
   "cell_type": "code",
   "execution_count": null,
   "metadata": {},
   "outputs": [],
   "source": [
    "# df2 = df2[[\"ID\",\"Points\", \"Team Number\", \"Salary\",\"Value\"]]\n",
    "# df2"
   ]
  },
  {
   "cell_type": "code",
   "execution_count": null,
   "metadata": {},
   "outputs": [],
   "source": [
    "# x2 = df2.drop([\"Points\"], axis=1)\n",
    "# y2 = df2.Points"
   ]
  },
  {
   "cell_type": "code",
   "execution_count": null,
   "metadata": {},
   "outputs": [],
   "source": [
    "# x2_scaled = x_scaler.transform(x2)"
   ]
  },
  {
   "cell_type": "code",
   "execution_count": null,
   "metadata": {},
   "outputs": [],
   "source": [
    "# predictions_scaled = model.predict(x2_scaled)\n",
    "# final_prediction = y_scaler.inverse_transform(predictions_scaled)\n",
    "# final_prediction"
   ]
  },
  {
   "cell_type": "code",
   "execution_count": null,
   "metadata": {},
   "outputs": [],
   "source": [
    "# np.savetxt(\"foo.csv\", final_prediction, delimiter=\",\")"
   ]
  },
  {
   "cell_type": "code",
   "execution_count": null,
   "metadata": {},
   "outputs": [],
   "source": []
  }
 ],
 "metadata": {
  "kernelspec": {
   "display_name": "Python 3 (ipykernel)",
   "language": "python",
   "name": "python3"
  },
  "language_info": {
   "codemirror_mode": {
    "name": "ipython",
    "version": 3
   },
   "file_extension": ".py",
   "mimetype": "text/x-python",
   "name": "python",
   "nbconvert_exporter": "python",
   "pygments_lexer": "ipython3",
   "version": "3.8.5"
  }
 },
 "nbformat": 4,
 "nbformat_minor": 4
}
