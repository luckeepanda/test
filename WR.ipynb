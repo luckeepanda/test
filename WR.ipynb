{
 "cells": [
  {
   "cell_type": "code",
   "execution_count": 22,
   "metadata": {},
   "outputs": [],
   "source": [
    "import pandas as pd"
   ]
  },
  {
   "cell_type": "code",
   "execution_count": 23,
   "metadata": {},
   "outputs": [],
   "source": [
    "year = 2021\n",
    "str = 'https://www.pro-football-reference.com/years/{}/receiving.htm'"
   ]
  },
  {
   "cell_type": "code",
   "execution_count": 24,
   "metadata": {},
   "outputs": [],
   "source": [
    "url3 = str.format(year)"
   ]
  },
  {
   "cell_type": "code",
   "execution_count": 25,
   "metadata": {},
   "outputs": [],
   "source": [
    "df = pd.read_html(url3, header = 0)"
   ]
  },
  {
   "cell_type": "code",
   "execution_count": 26,
   "metadata": {},
   "outputs": [],
   "source": [
    "wr_df = df[0]"
   ]
  },
  {
   "cell_type": "code",
   "execution_count": 27,
   "metadata": {},
   "outputs": [],
   "source": [
    "df = wr_df.drop(wr_df[wr_df.Player == 'Player'].index)"
   ]
  },
  {
   "cell_type": "code",
   "execution_count": 28,
   "metadata": {},
   "outputs": [],
   "source": [
    "wr_df = df[['Player', 'Tm', 'Pos', 'Tgt', 'Rec', 'Ctch%', 'Yds', 'TD', 'Y/Tgt', 'Fmb']]"
   ]
  },
  {
   "cell_type": "code",
   "execution_count": 30,
   "metadata": {},
   "outputs": [],
   "source": [
    "wrdf = wr_df.loc[(wr_df['Pos'] == 'wr')] #locate rows that only contain "
   ]
  },
  {
   "cell_type": "code",
   "execution_count": 31,
   "metadata": {},
   "outputs": [
    {
     "data": {
      "text/html": [
       "<div>\n",
       "<style scoped>\n",
       "    .dataframe tbody tr th:only-of-type {\n",
       "        vertical-align: middle;\n",
       "    }\n",
       "\n",
       "    .dataframe tbody tr th {\n",
       "        vertical-align: top;\n",
       "    }\n",
       "\n",
       "    .dataframe thead th {\n",
       "        text-align: right;\n",
       "    }\n",
       "</style>\n",
       "<table border=\"1\" class=\"dataframe\">\n",
       "  <thead>\n",
       "    <tr style=\"text-align: right;\">\n",
       "      <th></th>\n",
       "      <th>Player</th>\n",
       "      <th>Tm</th>\n",
       "      <th>Pos</th>\n",
       "      <th>Tgt</th>\n",
       "      <th>Rec</th>\n",
       "      <th>Ctch%</th>\n",
       "      <th>Yds</th>\n",
       "      <th>TD</th>\n",
       "      <th>Y/Tgt</th>\n",
       "      <th>Fmb</th>\n",
       "    </tr>\n",
       "  </thead>\n",
       "  <tbody>\n",
       "    <tr>\n",
       "      <th>0</th>\n",
       "      <td>Amari Cooper</td>\n",
       "      <td>DAL</td>\n",
       "      <td>wr</td>\n",
       "      <td>16</td>\n",
       "      <td>13</td>\n",
       "      <td>81.3%</td>\n",
       "      <td>139</td>\n",
       "      <td>2</td>\n",
       "      <td>8.7</td>\n",
       "      <td>0</td>\n",
       "    </tr>\n",
       "    <tr>\n",
       "      <th>1</th>\n",
       "      <td>Tyreek Hill</td>\n",
       "      <td>KAN</td>\n",
       "      <td>wr</td>\n",
       "      <td>15</td>\n",
       "      <td>11</td>\n",
       "      <td>73.3%</td>\n",
       "      <td>197</td>\n",
       "      <td>1</td>\n",
       "      <td>13.1</td>\n",
       "      <td>0</td>\n",
       "    </tr>\n",
       "    <tr>\n",
       "      <th>3</th>\n",
       "      <td>Keenan Allen</td>\n",
       "      <td>LAC</td>\n",
       "      <td>wr</td>\n",
       "      <td>13</td>\n",
       "      <td>9</td>\n",
       "      <td>69.2%</td>\n",
       "      <td>100</td>\n",
       "      <td>0</td>\n",
       "      <td>7.7</td>\n",
       "      <td>1</td>\n",
       "    </tr>\n",
       "    <tr>\n",
       "      <th>4</th>\n",
       "      <td>Stefon Diggs</td>\n",
       "      <td>BUF</td>\n",
       "      <td>wr</td>\n",
       "      <td>14</td>\n",
       "      <td>9</td>\n",
       "      <td>64.3%</td>\n",
       "      <td>69</td>\n",
       "      <td>0</td>\n",
       "      <td>4.9</td>\n",
       "      <td>0</td>\n",
       "    </tr>\n",
       "    <tr>\n",
       "      <th>5</th>\n",
       "      <td>Chris Godwin</td>\n",
       "      <td>TAM</td>\n",
       "      <td>wr</td>\n",
       "      <td>14</td>\n",
       "      <td>9</td>\n",
       "      <td>64.3%</td>\n",
       "      <td>105</td>\n",
       "      <td>1</td>\n",
       "      <td>7.5</td>\n",
       "      <td>1</td>\n",
       "    </tr>\n",
       "    <tr>\n",
       "      <th>...</th>\n",
       "      <td>...</td>\n",
       "      <td>...</td>\n",
       "      <td>...</td>\n",
       "      <td>...</td>\n",
       "      <td>...</td>\n",
       "      <td>...</td>\n",
       "      <td>...</td>\n",
       "      <td>...</td>\n",
       "      <td>...</td>\n",
       "      <td>...</td>\n",
       "    </tr>\n",
       "    <tr>\n",
       "      <th>199</th>\n",
       "      <td>Devin Duvernay</td>\n",
       "      <td>BAL</td>\n",
       "      <td>wr</td>\n",
       "      <td>2</td>\n",
       "      <td>1</td>\n",
       "      <td>50.0%</td>\n",
       "      <td>6</td>\n",
       "      <td>0</td>\n",
       "      <td>3.0</td>\n",
       "      <td>1</td>\n",
       "    </tr>\n",
       "    <tr>\n",
       "      <th>224</th>\n",
       "      <td>Elijah Moore</td>\n",
       "      <td>NYJ</td>\n",
       "      <td>wr</td>\n",
       "      <td>4</td>\n",
       "      <td>1</td>\n",
       "      <td>25.0%</td>\n",
       "      <td>-3</td>\n",
       "      <td>0</td>\n",
       "      <td>-0.8</td>\n",
       "      <td>0</td>\n",
       "    </tr>\n",
       "    <tr>\n",
       "      <th>226</th>\n",
       "      <td>Donovan Peoples-Jones</td>\n",
       "      <td>CLE</td>\n",
       "      <td>wr</td>\n",
       "      <td>1</td>\n",
       "      <td>1</td>\n",
       "      <td>100.0%</td>\n",
       "      <td>4</td>\n",
       "      <td>0</td>\n",
       "      <td>4.0</td>\n",
       "      <td>0</td>\n",
       "    </tr>\n",
       "    <tr>\n",
       "      <th>230</th>\n",
       "      <td>Demarcus Robinson</td>\n",
       "      <td>KAN</td>\n",
       "      <td>wr</td>\n",
       "      <td>2</td>\n",
       "      <td>1</td>\n",
       "      <td>50.0%</td>\n",
       "      <td>9</td>\n",
       "      <td>0</td>\n",
       "      <td>4.5</td>\n",
       "      <td>0</td>\n",
       "    </tr>\n",
       "    <tr>\n",
       "      <th>237</th>\n",
       "      <td>Courtland Sutton</td>\n",
       "      <td>DEN</td>\n",
       "      <td>wr</td>\n",
       "      <td>3</td>\n",
       "      <td>1</td>\n",
       "      <td>33.3%</td>\n",
       "      <td>14</td>\n",
       "      <td>0</td>\n",
       "      <td>4.7</td>\n",
       "      <td>0</td>\n",
       "    </tr>\n",
       "  </tbody>\n",
       "</table>\n",
       "<p>73 rows × 10 columns</p>\n",
       "</div>"
      ],
      "text/plain": [
       "                    Player   Tm Pos Tgt Rec   Ctch%  Yds TD Y/Tgt Fmb\n",
       "0             Amari Cooper  DAL  wr  16  13   81.3%  139  2   8.7   0\n",
       "1              Tyreek Hill  KAN  wr  15  11   73.3%  197  1  13.1   0\n",
       "3             Keenan Allen  LAC  wr  13   9   69.2%  100  0   7.7   1\n",
       "4             Stefon Diggs  BUF  wr  14   9   64.3%   69  0   4.9   0\n",
       "5             Chris Godwin  TAM  wr  14   9   64.3%  105  1   7.5   1\n",
       "..                     ...  ...  ..  ..  ..     ...  ... ..   ...  ..\n",
       "199         Devin Duvernay  BAL  wr   2   1   50.0%    6  0   3.0   1\n",
       "224           Elijah Moore  NYJ  wr   4   1   25.0%   -3  0  -0.8   0\n",
       "226  Donovan Peoples-Jones  CLE  wr   1   1  100.0%    4  0   4.0   0\n",
       "230      Demarcus Robinson  KAN  wr   2   1   50.0%    9  0   4.5   0\n",
       "237       Courtland Sutton  DEN  wr   3   1   33.3%   14  0   4.7   0\n",
       "\n",
       "[73 rows x 10 columns]"
      ]
     },
     "execution_count": 31,
     "metadata": {},
     "output_type": "execute_result"
    }
   ],
   "source": [
    "wrdf"
   ]
  },
  {
   "cell_type": "code",
   "execution_count": 19,
   "metadata": {},
   "outputs": [],
   "source": [
    "wrdf.to_csv(r'C:\\Users\\Steve.Lin\\Desktop\\test\\Resources\\wr_data.csv', index=Falsewrdf"
   ]
  },
  {
   "cell_type": "code",
   "execution_count": null,
   "metadata": {},
   "outputs": [],
   "source": []
  }
 ],
 "metadata": {
  "kernelspec": {
   "display_name": "Python 3 (ipykernel)",
   "language": "python",
   "name": "python3"
  },
  "language_info": {
   "codemirror_mode": {
    "name": "ipython",
    "version": 3
   },
   "file_extension": ".py",
   "mimetype": "text/x-python",
   "name": "python",
   "nbconvert_exporter": "python",
   "pygments_lexer": "ipython3",
   "version": "3.8.5"
  }
 },
 "nbformat": 4,
 "nbformat_minor": 4
}
